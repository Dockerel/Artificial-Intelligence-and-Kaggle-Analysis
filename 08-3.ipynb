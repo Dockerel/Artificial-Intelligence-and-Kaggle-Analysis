{
 "cells": [
  {
   "cell_type": "markdown",
   "metadata": {},
   "source": [
    "# Decision Tree의 알고리즘 설명\n",
    "\n",
    "## Decision Tree\n",
    "1. 가장 기본적인 machine learning algorithm 중 하나\n",
    "2. 사람이 가장 이해하기 쉬운 machine learning algorithm\n",
    "3. 성능도 꽤 좋음\n",
    "\n",
    "## Decision Tree 과정\n",
    "1. Dataset 불러옴\n",
    "2. Data를 2가지로 분류\n",
    "* features: 정답을 맞추기 위한 여러 변수들(독립변수)\n",
    "* label: 정답(종속변수)\n",
    "3. 조건(condition) 찾음 (독립변수 개수 조합 &rarr; 모든 경우의 수)\n",
    "* 'fit' 명령 수행 &rarr; features의 변수들을 조합\n",
    "* 이론적으로 만들 수 있는 모든 조건(condition)들을 만듦\n",
    "4. 조건들(conditions)을 활용해 가지(tree)를 쳐서 나무를 만듦\n",
    "5. 그렇다면 어떤 조건들이 상위로 배치될까?\n",
    "&rarr; 좋은 조건, 즉 생존율과 사망율을 확실하게 구분할 수 있는 조건을 상위에 배치\n",
    "\n",
    "### Gini Impurity\n",
    "* 낮을 수록 좋은 조건\n",
    "* 높은 gini impurity에서 가장 좋은 조건인 sex_encode를 적용해 가면서 점점 gini impurity를 낮추어감"
   ]
  },
  {
   "cell_type": "markdown",
   "metadata": {},
   "source": [
    "Sex_encode <= 0.5\n",
    "gini = 0.473\n",
    "samples = 891\n",
    "value = [549, 342]\n",
    "class = Perish"
   ]
  },
  {
   "cell_type": "code",
   "execution_count": 3,
   "metadata": {},
   "outputs": [
    {
     "name": "stdout",
     "output_type": "stream",
     "text": [
      "Gini Impurity : 0.473\n"
     ]
    }
   ],
   "source": [
    "gini_impurity=1-(549/891)*(549/891)-(342/891)*(342/891)\n",
    "print(f\"Gini Impurity : {gini_impurity:.3f}\")"
   ]
  },
  {
   "cell_type": "markdown",
   "metadata": {},
   "source": [
    "## Branch Termination in Python\n",
    "1. Gini Impurity값이 0에 도달\n",
    "2. Gini Impurity값이 더 이상 갑소하지 않는 지점\n",
    "3. 지정한 max_depth값에 도달할 때까지"
   ]
  },
  {
   "cell_type": "markdown",
   "metadata": {},
   "source": []
  }
 ],
 "metadata": {
  "kernelspec": {
   "display_name": "base",
   "language": "python",
   "name": "python3"
  },
  "language_info": {
   "codemirror_mode": {
    "name": "ipython",
    "version": 3
   },
   "file_extension": ".py",
   "mimetype": "text/x-python",
   "name": "python",
   "nbconvert_exporter": "python",
   "pygments_lexer": "ipython3",
   "version": "3.11.4"
  }
 },
 "nbformat": 4,
 "nbformat_minor": 2
}
