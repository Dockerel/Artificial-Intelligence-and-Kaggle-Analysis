{
 "cells": [
  {
   "cell_type": "code",
   "execution_count": 1,
   "metadata": {},
   "outputs": [
    {
     "name": "stdout",
     "output_type": "stream",
     "text": [
      "(10886, 12)\n",
      "(6493, 9)\n",
      "(6493, 2)\n"
     ]
    }
   ],
   "source": [
    "import pandas as pd\n",
    "import seaborn as sns\n",
    "import matplotlib.pyplot as plt\n",
    "\n",
    "train=pd.read_csv(\"train_bsd.csv\")\n",
    "test=pd.read_csv(\"test_bsd.csv\")\n",
    "\n",
    "print(train.shape)\n",
    "print(test.shape)\n",
    "\n",
    "datasets=[train,test]\n",
    "\n",
    "submit=pd.read_csv(\"sampleSubmission.csv\")\n",
    "print(submit.shape)\n",
    "submit.head()\n",
    "\n",
    "for dataset in datasets:\n",
    "    dataset[\"datetime\"]=pd.to_datetime(dataset[\"datetime\"])"
   ]
  },
  {
   "cell_type": "code",
   "execution_count": 3,
   "metadata": {},
   "outputs": [],
   "source": [
    "for dataset in datasets:\n",
    "    dataset[\"datetime-year\"]=dataset[\"datetime\"].dt.year\n",
    "    dataset[\"datetime-hour\"]=dataset[\"datetime\"].dt.hour\n",
    "\n",
    "for dataset in datasets:\n",
    "    dataset[\"datetime-dayofweek\"]=dataset[\"datetime\"].dt.day_name()\n",
    "    dataset[[\"datetime-dayofweek\"]]\n",
    "\n",
    "for dataset in datasets:\n",
    "    dataset[\"datetime-dayofweek_Sun\"]=dataset[\"datetime-dayofweek\"]==\"Sunday\"\n",
    "    dataset[\"datetime-dayofweek_Mon\"]=dataset[\"datetime-dayofweek\"]==\"Monday\"\n",
    "    dataset[\"datetime-dayofweek_Tue\"]=dataset[\"datetime-dayofweek\"]==\"Tuesday\"\n",
    "    dataset[\"datetime-dayofweek_Wed\"]=dataset[\"datetime-dayofweek\"]==\"Wednesday\"\n",
    "    dataset[\"datetime-dayofweek_Thu\"]=dataset[\"datetime-dayofweek\"]==\"Thursday\"\n",
    "    dataset[\"datetime-dayofweek_Fri\"]=dataset[\"datetime-dayofweek\"]==\"Friday\"\n",
    "    dataset[\"datetime-dayofweek_Sat\"]=dataset[\"datetime-dayofweek\"]==\"Saturday\""
   ]
  },
  {
   "cell_type": "markdown",
   "metadata": {},
   "source": [
    "# variables & model algorithm"
   ]
  },
  {
   "cell_type": "code",
   "execution_count": 5,
   "metadata": {},
   "outputs": [
    {
     "data": {
      "text/plain": [
       "['season',\n",
       " 'holiday',\n",
       " 'workingday',\n",
       " 'weather',\n",
       " 'temp',\n",
       " 'atemp',\n",
       " 'humidity',\n",
       " 'windspeed',\n",
       " 'datetime-year',\n",
       " 'datetime-hour',\n",
       " 'datetime-dayofweek_Sun',\n",
       " 'datetime-dayofweek_Mon',\n",
       " 'datetime-dayofweek_Tue',\n",
       " 'datetime-dayofweek_Wed',\n",
       " 'datetime-dayofweek_Thu',\n",
       " 'datetime-dayofweek_Fri',\n",
       " 'datetime-dayofweek_Sat']"
      ]
     },
     "execution_count": 5,
     "metadata": {},
     "output_type": "execute_result"
    }
   ],
   "source": [
    "feature_names=[\"season\",\"holiday\",\"workingday\",\"weather\",\"temp\",\"atemp\",\"humidity\",\"windspeed\",\"datetime-year\",\"datetime-hour\",\"datetime-dayofweek_Sun\",\"datetime-dayofweek_Mon\",\"datetime-dayofweek_Tue\",\"datetime-dayofweek_Wed\",\"datetime-dayofweek_Thu\",\"datetime-dayofweek_Fri\",\"datetime-dayofweek_Sat\"]\n",
    "feature_names"
   ]
  },
  {
   "cell_type": "code",
   "execution_count": 6,
   "metadata": {},
   "outputs": [],
   "source": [
    "x=train[feature_names]\n",
    "y=train[\"count\"]\n",
    "x_test=test[feature_names]"
   ]
  },
  {
   "cell_type": "code",
   "execution_count": 7,
   "metadata": {},
   "outputs": [
    {
     "data": {
      "text/html": [
       "<style>#sk-container-id-1 {color: black;}#sk-container-id-1 pre{padding: 0;}#sk-container-id-1 div.sk-toggleable {background-color: white;}#sk-container-id-1 label.sk-toggleable__label {cursor: pointer;display: block;width: 100%;margin-bottom: 0;padding: 0.3em;box-sizing: border-box;text-align: center;}#sk-container-id-1 label.sk-toggleable__label-arrow:before {content: \"▸\";float: left;margin-right: 0.25em;color: #696969;}#sk-container-id-1 label.sk-toggleable__label-arrow:hover:before {color: black;}#sk-container-id-1 div.sk-estimator:hover label.sk-toggleable__label-arrow:before {color: black;}#sk-container-id-1 div.sk-toggleable__content {max-height: 0;max-width: 0;overflow: hidden;text-align: left;background-color: #f0f8ff;}#sk-container-id-1 div.sk-toggleable__content pre {margin: 0.2em;color: black;border-radius: 0.25em;background-color: #f0f8ff;}#sk-container-id-1 input.sk-toggleable__control:checked~div.sk-toggleable__content {max-height: 200px;max-width: 100%;overflow: auto;}#sk-container-id-1 input.sk-toggleable__control:checked~label.sk-toggleable__label-arrow:before {content: \"▾\";}#sk-container-id-1 div.sk-estimator input.sk-toggleable__control:checked~label.sk-toggleable__label {background-color: #d4ebff;}#sk-container-id-1 div.sk-label input.sk-toggleable__control:checked~label.sk-toggleable__label {background-color: #d4ebff;}#sk-container-id-1 input.sk-hidden--visually {border: 0;clip: rect(1px 1px 1px 1px);clip: rect(1px, 1px, 1px, 1px);height: 1px;margin: -1px;overflow: hidden;padding: 0;position: absolute;width: 1px;}#sk-container-id-1 div.sk-estimator {font-family: monospace;background-color: #f0f8ff;border: 1px dotted black;border-radius: 0.25em;box-sizing: border-box;margin-bottom: 0.5em;}#sk-container-id-1 div.sk-estimator:hover {background-color: #d4ebff;}#sk-container-id-1 div.sk-parallel-item::after {content: \"\";width: 100%;border-bottom: 1px solid gray;flex-grow: 1;}#sk-container-id-1 div.sk-label:hover label.sk-toggleable__label {background-color: #d4ebff;}#sk-container-id-1 div.sk-serial::before {content: \"\";position: absolute;border-left: 1px solid gray;box-sizing: border-box;top: 0;bottom: 0;left: 50%;z-index: 0;}#sk-container-id-1 div.sk-serial {display: flex;flex-direction: column;align-items: center;background-color: white;padding-right: 0.2em;padding-left: 0.2em;position: relative;}#sk-container-id-1 div.sk-item {position: relative;z-index: 1;}#sk-container-id-1 div.sk-parallel {display: flex;align-items: stretch;justify-content: center;background-color: white;position: relative;}#sk-container-id-1 div.sk-item::before, #sk-container-id-1 div.sk-parallel-item::before {content: \"\";position: absolute;border-left: 1px solid gray;box-sizing: border-box;top: 0;bottom: 0;left: 50%;z-index: -1;}#sk-container-id-1 div.sk-parallel-item {display: flex;flex-direction: column;z-index: 1;position: relative;background-color: white;}#sk-container-id-1 div.sk-parallel-item:first-child::after {align-self: flex-end;width: 50%;}#sk-container-id-1 div.sk-parallel-item:last-child::after {align-self: flex-start;width: 50%;}#sk-container-id-1 div.sk-parallel-item:only-child::after {width: 0;}#sk-container-id-1 div.sk-dashed-wrapped {border: 1px dashed gray;margin: 0 0.4em 0.5em 0.4em;box-sizing: border-box;padding-bottom: 0.4em;background-color: white;}#sk-container-id-1 div.sk-label label {font-family: monospace;font-weight: bold;display: inline-block;line-height: 1.2em;}#sk-container-id-1 div.sk-label-container {text-align: center;}#sk-container-id-1 div.sk-container {/* jupyter's `normalize.less` sets `[hidden] { display: none; }` but bootstrap.min.css set `[hidden] { display: none !important; }` so we also need the `!important` here to be able to override the default hidden behavior on the sphinx rendered scikit-learn.org. See: https://github.com/scikit-learn/scikit-learn/issues/21755 */display: inline-block !important;position: relative;}#sk-container-id-1 div.sk-text-repr-fallback {display: none;}</style><div id=\"sk-container-id-1\" class=\"sk-top-container\"><div class=\"sk-text-repr-fallback\"><pre>RandomForestRegressor(random_state=37)</pre><b>In a Jupyter environment, please rerun this cell to show the HTML representation or trust the notebook. <br />On GitHub, the HTML representation is unable to render, please try loading this page with nbviewer.org.</b></div><div class=\"sk-container\" hidden><div class=\"sk-item\"><div class=\"sk-estimator sk-toggleable\"><input class=\"sk-toggleable__control sk-hidden--visually\" id=\"sk-estimator-id-1\" type=\"checkbox\" checked><label for=\"sk-estimator-id-1\" class=\"sk-toggleable__label sk-toggleable__label-arrow\">RandomForestRegressor</label><div class=\"sk-toggleable__content\"><pre>RandomForestRegressor(random_state=37)</pre></div></div></div></div></div>"
      ],
      "text/plain": [
       "RandomForestRegressor(random_state=37)"
      ]
     },
     "execution_count": 7,
     "metadata": {},
     "output_type": "execute_result"
    }
   ],
   "source": [
    "from sklearn.ensemble import RandomForestRegressor\n",
    "model=RandomForestRegressor(random_state=37)\n",
    "model"
   ]
  },
  {
   "cell_type": "markdown",
   "metadata": {},
   "source": [
    "# Model Validation\n",
    "1. 검증하는 이유\n",
    "* Kaggle에 매번 올리기가 번거로움\n",
    "* 회사에서 실무 데이터를 다룰 때는 Kaggle로 검증 불가능\n",
    "2. Data 분석 방식 (3단계)\n",
    "* 가설 수립\n",
    "* 검증 &rarr; excel에서는 pivot_table / python에서는 pd.pivot_table 을 이요하여 검증하는 것이 불가능\n",
    "* 예측\n",
    "3. 검증 방법\n",
    "* Hold-out Validation\n",
    "* Cross Validation"
   ]
  },
  {
   "cell_type": "markdown",
   "metadata": {},
   "source": [
    "## 1. Hold-out Validation\n",
    "1. \"test\"는 미활용\n",
    "2. \"train\" data 전체로 fit 하지 않고 일부분으로 fit 시행 (약 80% 이용)\n",
    "* data를 8:2로 나눈 뒤, 큰 조각을 train data로, 작은 조각을 test data로 가정\n",
    "* 8000개로 학습(fit)한 뒤 2000개를 예측(predict) &rarr; y(predict) 도출\n",
    "* 이 y(predict)을 train data의 원래 2000개 값과 비교\n",
    "* &rarr; 정답이 많이 겹칠수록 model 성능이 좋은 것"
   ]
  },
  {
   "cell_type": "markdown",
   "metadata": {},
   "source": [
    "## 2. Cross Validation\n",
    "1. \"train\" data를 1/n로 나눔 (예: 5조각 (cv=5))\n",
    "2. 한 조각을 제외한 나머지로 fit 하고 한조각을 predict (n회 시행)\n",
    "* data를 5조각을 쪼개고, 조각을 뺀 나머지 (=train)로 학습하고, 제외했던 한 조각(=valid)를 예측 (총 5회 시행)\n",
    "* B+C+D+E &rarr; A 예측\n",
    "* A+C+D+E &rarr; B 예측\n",
    "* A+B+D+E &rarr; C 예측\n",
    "* A+B+C+E &rarr; D 예측\n",
    "* A+B+C+D &rarr; E 예측\n",
    "* 도출된 y(predict) 값을 train의 원래 y(actual)값과 비교"
   ]
  },
  {
   "cell_type": "markdown",
   "metadata": {},
   "source": [
    "<img src=\"https://velog.velcdn.com/images/dgh0001/post/c594ed0a-9c06-4ade-bfcc-46194b7c3b58/image.png\"/>"
   ]
  },
  {
   "cell_type": "markdown",
   "metadata": {},
   "source": [
    "* 실행속도가 중요하다면 &rarr; Hold-out Validation 사용\n",
    "* rate-determining step &rarr; \"fit\" process (fit 횟수와 속도와 비례)"
   ]
  },
  {
   "cell_type": "markdown",
   "metadata": {},
   "source": [
    "* 정확도가 중요하다면 &rarr; Cross Validation 사용\n",
    "* Hold-out validation: Kaggle score와 잘 일치하지 않을 수도 있음\n",
    "* Cross Validation: Kaggle score와 일치할 가능성이 높음"
   ]
  },
  {
   "cell_type": "markdown",
   "metadata": {},
   "source": [
    "&rarr; Bike Sharing Demand &rarr; Cross Validation으로 검증\n",
    "* BSD에서는 20 cv로 시행"
   ]
  },
  {
   "cell_type": "markdown",
   "metadata": {},
   "source": [
    "# Evaluate"
   ]
  },
  {
   "cell_type": "code",
   "execution_count": 10,
   "metadata": {},
   "outputs": [
    {
     "name": "stdout",
     "output_type": "stream",
     "text": [
      "(10886,)\n"
     ]
    },
    {
     "data": {
      "text/plain": [
       "array([ 26.69,  23.53,  24.82, ..., 173.26, 171.74, 120.63])"
      ]
     },
     "execution_count": 10,
     "metadata": {},
     "output_type": "execute_result"
    }
   ],
   "source": [
    "from sklearn.model_selection import cross_val_predict\n",
    "y_predict=cross_val_predict(model,x,y,cv=20)\n",
    "print(y_predict.shape)\n",
    "y_predict"
   ]
  },
  {
   "cell_type": "markdown",
   "metadata": {},
   "source": [
    "### y_predict와 y를 일일히 비교하기 곤란\n",
    "### 따라서 Evaluation Metrics(MAE, MSE, RMSE) 사용 검증"
   ]
  },
  {
   "cell_type": "code",
   "execution_count": null,
   "metadata": {},
   "outputs": [],
   "source": []
  }
 ],
 "metadata": {
  "kernelspec": {
   "display_name": "base",
   "language": "python",
   "name": "python3"
  },
  "language_info": {
   "codemirror_mode": {
    "name": "ipython",
    "version": 3
   },
   "file_extension": ".py",
   "mimetype": "text/x-python",
   "name": "python",
   "nbconvert_exporter": "python",
   "pygments_lexer": "ipython3",
   "version": "3.11.4"
  }
 },
 "nbformat": 4,
 "nbformat_minor": 2
}
