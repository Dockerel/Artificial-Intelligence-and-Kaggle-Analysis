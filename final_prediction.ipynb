{
 "cells": [
  {
   "cell_type": "code",
   "execution_count": 48,
   "metadata": {},
   "outputs": [
    {
     "name": "stdout",
     "output_type": "stream",
     "text": [
      "(10886, 12)\n",
      "(6493, 9)\n",
      "(6493, 2)\n"
     ]
    }
   ],
   "source": [
    "import pandas as pd\n",
    "import numpy as np\n",
    "import seaborn as sns\n",
    "import matplotlib.pyplot as plt\n",
    "\n",
    "train=pd.read_csv(\"train_bsd.csv\")\n",
    "test=pd.read_csv(\"test_bsd.csv\")\n",
    "\n",
    "print(train.shape)\n",
    "print(test.shape)\n",
    "\n",
    "datasets=[train,test]\n",
    "\n",
    "submit=pd.read_csv(\"sampleSubmission.csv\")\n",
    "print(submit.shape)\n",
    "submit.head()\n",
    "\n",
    "for dataset in datasets:\n",
    "    dataset[\"datetime\"]=pd.to_datetime(dataset[\"datetime\"])"
   ]
  },
  {
   "cell_type": "code",
   "execution_count": 49,
   "metadata": {},
   "outputs": [],
   "source": [
    "for dataset in datasets:\n",
    "    dataset[\"datetime-year\"]=dataset[\"datetime\"].dt.year\n",
    "    dataset[\"datetime-hour\"]=dataset[\"datetime\"].dt.hour\n",
    "\n",
    "for dataset in datasets:\n",
    "    dataset[\"datetime-dayofweek\"]=dataset[\"datetime\"].dt.day_name()\n",
    "    dataset[[\"datetime-dayofweek\"]]\n",
    "\n",
    "for dataset in datasets:\n",
    "    dataset[\"datetime-dayofweek_Sun\"]=dataset[\"datetime-dayofweek\"]==\"Sunday\"\n",
    "    dataset[\"datetime-dayofweek_Mon\"]=dataset[\"datetime-dayofweek\"]==\"Monday\"\n",
    "    dataset[\"datetime-dayofweek_Tue\"]=dataset[\"datetime-dayofweek\"]==\"Tuesday\"\n",
    "    dataset[\"datetime-dayofweek_Wed\"]=dataset[\"datetime-dayofweek\"]==\"Wednesday\"\n",
    "    dataset[\"datetime-dayofweek_Thu\"]=dataset[\"datetime-dayofweek\"]==\"Thursday\"\n",
    "    dataset[\"datetime-dayofweek_Fri\"]=dataset[\"datetime-dayofweek\"]==\"Friday\"\n",
    "    dataset[\"datetime-dayofweek_Sat\"]=dataset[\"datetime-dayofweek\"]==\"Saturday\""
   ]
  },
  {
   "cell_type": "code",
   "execution_count": 50,
   "metadata": {},
   "outputs": [],
   "source": [
    "for dataset in datasets:\n",
    "    dataset.loc[dataset[\"weather\"]==4,\"weather\"]=3"
   ]
  },
  {
   "cell_type": "code",
   "execution_count": 51,
   "metadata": {},
   "outputs": [
    {
     "data": {
      "text/plain": [
       "['season',\n",
       " 'holiday',\n",
       " 'workingday',\n",
       " 'weather',\n",
       " 'temp',\n",
       " 'atemp',\n",
       " 'humidity',\n",
       " 'windspeed',\n",
       " 'datetime-year',\n",
       " 'datetime-hour',\n",
       " 'datetime-dayofweek_Mon',\n",
       " 'datetime-dayofweek_Tue',\n",
       " 'datetime-dayofweek_Wed',\n",
       " 'datetime-dayofweek_Thu',\n",
       " 'datetime-dayofweek_Fri',\n",
       " 'datetime-dayofweek_Sat',\n",
       " 'datetime-dayofweek_Sun']"
      ]
     },
     "execution_count": 51,
     "metadata": {},
     "output_type": "execute_result"
    }
   ],
   "source": [
    "feature_names=[\"season\",\"holiday\",\"workingday\",\"weather\",\"temp\",\"atemp\",\"humidity\",\"windspeed\",\"datetime-year\",\"datetime-hour\",\"datetime-dayofweek_Mon\",\"datetime-dayofweek_Tue\",\"datetime-dayofweek_Wed\",\"datetime-dayofweek_Thu\",\"datetime-dayofweek_Fri\",\"datetime-dayofweek_Sat\",\"datetime-dayofweek_Sun\"]\n",
    "feature_names"
   ]
  },
  {
   "cell_type": "code",
   "execution_count": 52,
   "metadata": {},
   "outputs": [],
   "source": [
    "x=train[feature_names]\n",
    "y_log_casual=np.log(train[\"casual\"]+1)\n",
    "y_log_registered=np.log(train[\"registered\"]+1)\n",
    "y=train[\"count\"]\n",
    "x_test=test[feature_names]"
   ]
  },
  {
   "cell_type": "code",
   "execution_count": 53,
   "metadata": {},
   "outputs": [
    {
     "data": {
      "text/html": [
       "<style>#sk-container-id-4 {color: black;}#sk-container-id-4 pre{padding: 0;}#sk-container-id-4 div.sk-toggleable {background-color: white;}#sk-container-id-4 label.sk-toggleable__label {cursor: pointer;display: block;width: 100%;margin-bottom: 0;padding: 0.3em;box-sizing: border-box;text-align: center;}#sk-container-id-4 label.sk-toggleable__label-arrow:before {content: \"▸\";float: left;margin-right: 0.25em;color: #696969;}#sk-container-id-4 label.sk-toggleable__label-arrow:hover:before {color: black;}#sk-container-id-4 div.sk-estimator:hover label.sk-toggleable__label-arrow:before {color: black;}#sk-container-id-4 div.sk-toggleable__content {max-height: 0;max-width: 0;overflow: hidden;text-align: left;background-color: #f0f8ff;}#sk-container-id-4 div.sk-toggleable__content pre {margin: 0.2em;color: black;border-radius: 0.25em;background-color: #f0f8ff;}#sk-container-id-4 input.sk-toggleable__control:checked~div.sk-toggleable__content {max-height: 200px;max-width: 100%;overflow: auto;}#sk-container-id-4 input.sk-toggleable__control:checked~label.sk-toggleable__label-arrow:before {content: \"▾\";}#sk-container-id-4 div.sk-estimator input.sk-toggleable__control:checked~label.sk-toggleable__label {background-color: #d4ebff;}#sk-container-id-4 div.sk-label input.sk-toggleable__control:checked~label.sk-toggleable__label {background-color: #d4ebff;}#sk-container-id-4 input.sk-hidden--visually {border: 0;clip: rect(1px 1px 1px 1px);clip: rect(1px, 1px, 1px, 1px);height: 1px;margin: -1px;overflow: hidden;padding: 0;position: absolute;width: 1px;}#sk-container-id-4 div.sk-estimator {font-family: monospace;background-color: #f0f8ff;border: 1px dotted black;border-radius: 0.25em;box-sizing: border-box;margin-bottom: 0.5em;}#sk-container-id-4 div.sk-estimator:hover {background-color: #d4ebff;}#sk-container-id-4 div.sk-parallel-item::after {content: \"\";width: 100%;border-bottom: 1px solid gray;flex-grow: 1;}#sk-container-id-4 div.sk-label:hover label.sk-toggleable__label {background-color: #d4ebff;}#sk-container-id-4 div.sk-serial::before {content: \"\";position: absolute;border-left: 1px solid gray;box-sizing: border-box;top: 0;bottom: 0;left: 50%;z-index: 0;}#sk-container-id-4 div.sk-serial {display: flex;flex-direction: column;align-items: center;background-color: white;padding-right: 0.2em;padding-left: 0.2em;position: relative;}#sk-container-id-4 div.sk-item {position: relative;z-index: 1;}#sk-container-id-4 div.sk-parallel {display: flex;align-items: stretch;justify-content: center;background-color: white;position: relative;}#sk-container-id-4 div.sk-item::before, #sk-container-id-4 div.sk-parallel-item::before {content: \"\";position: absolute;border-left: 1px solid gray;box-sizing: border-box;top: 0;bottom: 0;left: 50%;z-index: -1;}#sk-container-id-4 div.sk-parallel-item {display: flex;flex-direction: column;z-index: 1;position: relative;background-color: white;}#sk-container-id-4 div.sk-parallel-item:first-child::after {align-self: flex-end;width: 50%;}#sk-container-id-4 div.sk-parallel-item:last-child::after {align-self: flex-start;width: 50%;}#sk-container-id-4 div.sk-parallel-item:only-child::after {width: 0;}#sk-container-id-4 div.sk-dashed-wrapped {border: 1px dashed gray;margin: 0 0.4em 0.5em 0.4em;box-sizing: border-box;padding-bottom: 0.4em;background-color: white;}#sk-container-id-4 div.sk-label label {font-family: monospace;font-weight: bold;display: inline-block;line-height: 1.2em;}#sk-container-id-4 div.sk-label-container {text-align: center;}#sk-container-id-4 div.sk-container {/* jupyter's `normalize.less` sets `[hidden] { display: none; }` but bootstrap.min.css set `[hidden] { display: none !important; }` so we also need the `!important` here to be able to override the default hidden behavior on the sphinx rendered scikit-learn.org. See: https://github.com/scikit-learn/scikit-learn/issues/21755 */display: inline-block !important;position: relative;}#sk-container-id-4 div.sk-text-repr-fallback {display: none;}</style><div id=\"sk-container-id-4\" class=\"sk-top-container\"><div class=\"sk-text-repr-fallback\"><pre>RandomForestRegressor(random_state=37)</pre><b>In a Jupyter environment, please rerun this cell to show the HTML representation or trust the notebook. <br />On GitHub, the HTML representation is unable to render, please try loading this page with nbviewer.org.</b></div><div class=\"sk-container\" hidden><div class=\"sk-item\"><div class=\"sk-estimator sk-toggleable\"><input class=\"sk-toggleable__control sk-hidden--visually\" id=\"sk-estimator-id-4\" type=\"checkbox\" checked><label for=\"sk-estimator-id-4\" class=\"sk-toggleable__label sk-toggleable__label-arrow\">RandomForestRegressor</label><div class=\"sk-toggleable__content\"><pre>RandomForestRegressor(random_state=37)</pre></div></div></div></div></div>"
      ],
      "text/plain": [
       "RandomForestRegressor(random_state=37)"
      ]
     },
     "execution_count": 53,
     "metadata": {},
     "output_type": "execute_result"
    }
   ],
   "source": [
    "from sklearn.ensemble import RandomForestRegressor\n",
    "model=RandomForestRegressor(random_state=37)\n",
    "model"
   ]
  },
  {
   "cell_type": "markdown",
   "metadata": {},
   "source": [
    "## model validation"
   ]
  },
  {
   "cell_type": "code",
   "execution_count": 54,
   "metadata": {},
   "outputs": [
    {
     "data": {
      "text/plain": [
       "array([ 25.21074251,  22.05909323,  20.34299124, ..., 163.3236322 ,\n",
       "       168.25032187, 113.32342497])"
      ]
     },
     "execution_count": 54,
     "metadata": {},
     "output_type": "execute_result"
    }
   ],
   "source": [
    "from sklearn.model_selection import cross_val_predict\n",
    "y_predict_log_casual=cross_val_predict(model,x,y_log_casual,cv=20)\n",
    "y_predict_log_registered=cross_val_predict(model,x,y_log_registered,cv=20)\n",
    "y_predict_casual=np.exp(y_predict_log_casual)-1\n",
    "y_predict_registered=np.exp(y_predict_log_registered)-1\n",
    "y_predict=y_predict_casual+y_predict_registered\n",
    "y_predict"
   ]
  },
  {
   "cell_type": "code",
   "execution_count": 55,
   "metadata": {},
   "outputs": [
    {
     "data": {
      "text/plain": [
       "0         16\n",
       "1         40\n",
       "2         32\n",
       "3         13\n",
       "4          1\n",
       "        ... \n",
       "10881    336\n",
       "10882    241\n",
       "10883    168\n",
       "10884    129\n",
       "10885     88\n",
       "Name: count, Length: 10886, dtype: int64"
      ]
     },
     "execution_count": 55,
     "metadata": {},
     "output_type": "execute_result"
    }
   ],
   "source": [
    "y"
   ]
  },
  {
   "cell_type": "code",
   "execution_count": 57,
   "metadata": {},
   "outputs": [
    {
     "data": {
      "text/plain": [
       "'score_mae = 32.4, score_mse = 2903.1, score_rmse = 53.9'"
      ]
     },
     "execution_count": 57,
     "metadata": {},
     "output_type": "execute_result"
    }
   ],
   "source": [
    "score_mae=abs(y-y_predict).mean()\n",
    "score_mse=((y-y_predict)**2).mean()\n",
    "score_rmse=(score_mse)**0.5\n",
    "f\"score_mae = {score_mae:.1f}, score_mse = {score_mse:.1f}, score_rmse = {score_rmse:.1f}\""
   ]
  },
  {
   "cell_type": "code",
   "execution_count": 59,
   "metadata": {},
   "outputs": [
    {
     "data": {
      "text/plain": [
       "'score(MAE) = 32.4, score(MSE) = 2903.1, score(RMSE) = 53.9, score(RMSLE) = 0.35361'"
      ]
     },
     "execution_count": 59,
     "metadata": {},
     "output_type": "execute_result"
    }
   ],
   "source": [
    "from sklearn.metrics import mean_absolute_error\n",
    "score_mae1=mean_absolute_error(y,y_predict)\n",
    "from sklearn.metrics import mean_squared_error\n",
    "score_mse1=mean_squared_error(y,y_predict)\n",
    "score_rmse1=np.sqrt(score_mse1)\n",
    "from sklearn.metrics import mean_squared_log_error\n",
    "score_msle=mean_squared_log_error(y,y_predict)\n",
    "score_rmsle=np.sqrt(score_msle)\n",
    "f\"score(MAE) = {score_mae1:.1f}, score(MSE) = {score_mse1:.1f}, score(RMSE) = {score_rmse1:.1f}, score(RMSLE) = {score_rmsle:.5f}\""
   ]
  },
  {
   "cell_type": "markdown",
   "metadata": {},
   "source": [
    "## fit & predict & submit"
   ]
  },
  {
   "cell_type": "code",
   "execution_count": 60,
   "metadata": {},
   "outputs": [
    {
     "data": {
      "text/plain": [
       "array([ 11.21614845,   4.77576138,   2.68801493, ..., 100.94488838,\n",
       "        95.1454443 ,  48.13814829])"
      ]
     },
     "execution_count": 60,
     "metadata": {},
     "output_type": "execute_result"
    }
   ],
   "source": [
    "model.fit(x,y_log_casual)\n",
    "log_casual_predlist=model.predict(x_test)\n",
    "model.fit(x,y_log_registered)\n",
    "log_registered_predlist=model.predict(x_test)\n",
    "casual_predlist=np.exp(log_casual_predlist)-1\n",
    "registered_predlist=np.exp(log_registered_predlist)-1\n",
    "predlist=casual_predlist+registered_predlist\n",
    "predlist"
   ]
  },
  {
   "cell_type": "code",
   "execution_count": 61,
   "metadata": {},
   "outputs": [],
   "source": [
    "submit[\"count\"]=predlist\n",
    "submit.to_csv(\"randfore.csv\",index=False)"
   ]
  },
  {
   "cell_type": "code",
   "execution_count": null,
   "metadata": {},
   "outputs": [],
   "source": []
  }
 ],
 "metadata": {
  "kernelspec": {
   "display_name": "base",
   "language": "python",
   "name": "python3"
  },
  "language_info": {
   "codemirror_mode": {
    "name": "ipython",
    "version": 3
   },
   "file_extension": ".py",
   "mimetype": "text/x-python",
   "name": "python",
   "nbconvert_exporter": "python",
   "pygments_lexer": "ipython3",
   "version": "3.11.4"
  }
 },
 "nbformat": 4,
 "nbformat_minor": 2
}
